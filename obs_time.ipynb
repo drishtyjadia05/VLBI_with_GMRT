{
 "cells": [
  {
   "cell_type": "markdown",
   "id": "060b41cd-d995-4623-be4c-a208b4e16aa6",
   "metadata": {},
   "source": [
    "### **REQUIRED TIME INTEGRATION**\n",
    "\n",
    "Integration time required for a given SNR:\n",
    "\n",
    "$$ t_{obs} = \\left( \\frac{(S/N) \\beta}{S_{\\text{mean}}} \\right)^2 \\left( \\frac{T_{\\text{sys}}}{G} \\right)^2 \\frac{1}{n_{\\text{pol}} \\Delta f} \\frac{W}{P-W} $$ \n",
    "\n",
    "where, \\\n",
    "$\\ t_{obs} $ : &nbsp; integration time *(s)* \\\n",
    "$\\ (S/N) $ : &nbsp; Signal to Noise Ratio \\\n",
    "$\\ \\beta $ : &nbsp; correction factor for imperfection in system due to infinite digitization \\\n",
    "&nbsp;&nbsp;&nbsp;&nbsp;&nbsp;&nbsp;&nbsp; For one-bit digitisers $\\ (\\beta  \\backsimeq 1.25) $ and three-level correlator $\\ (\\beta  \\backsimeq 1.16) $.  \\\n",
    "$\\ S_{mean} $ : &nbsp; Mean Flux Density *(mJy)* \\\n",
    "$\\ T_{sys} $ : &nbsp; System Temperature *(K)* \\\n",
    "$\\ G $ : &nbsp; Gain of the telescope *$(K Jy^{-1})$* \\\n",
    "$\\ n_{pol} $ : &nbsp; number of polarisations \\\n",
    "$\\ {\\Delta f} $ : &nbsp; observing bandwidth *(MHz)*  \\\n",
    "$\\ W $ : &nbsp; Equivalent width *(s)* \\\n",
    "$\\ P $ : &nbsp; Pulse Period *(s)* "
   ]
  },
  {
   "cell_type": "markdown",
   "id": "117f5d01-9129-456d-ba54-965ec6c465f4",
   "metadata": {},
   "source": [
    "Antenna | GMRT | NCRA 15m \n",
    "---     | ---  | ---\n",
    "$\\ \\frac{G}{T_{sys}} $ | $\\ 3.2\\times 10^{-3} $ | $\\ 3.4\\times 10^{-4}$\n",
    "polarisation           |            2           |          1     \n",
    "\n",
    "\n",
    "\n",
    "Pulsar  | S 1400 |  P  |  W10 (ms)  \n",
    ":---:     | :---:    | :---: | :---:\n",
    "B0329+54|   203    |  0.7145  |  31.4\n",
    "B0950+08|   100    |  0.2531  |  21\n",
    "B1133+16|   20    |  1.1879  |  34\n",
    "B1929+10|   29    |  0.2265  |  12\n",
    "B2020+28|   38    |  0.3434  |  15.8"
   ]
  },
  {
   "cell_type": "markdown",
   "id": "f88b67ea-5251-457b-8319-338c05893b6d",
   "metadata": {},
   "source": []
  },
  {
   "cell_type": "code",
   "execution_count": 1,
   "id": "4b4085c1-0e39-451c-8e4a-828f2ed9bbdc",
   "metadata": {},
   "outputs": [],
   "source": [
    "SNR = 20\n",
    "beta = 1.1\n",
    "f = 100"
   ]
  },
  {
   "cell_type": "code",
   "execution_count": 2,
   "id": "8c5a29b5-1f16-41ef-a729-fe2bb8f6ca25",
   "metadata": {},
   "outputs": [],
   "source": [
    "G_by_T_sys_gmrt = 3.21e-3\n",
    "n_pol_gmrt = 2\n",
    "\n",
    "G_by_T_sys_ncra = 3.41e-4\n",
    "n_pol_ncra = 1\n"
   ]
  },
  {
   "cell_type": "code",
   "execution_count": 3,
   "id": "d251afa4-4b30-4323-b75b-62e07164b89c",
   "metadata": {},
   "outputs": [
    {
     "data": {
      "text/plain": [
       "0.00321"
      ]
     },
     "execution_count": 3,
     "metadata": {},
     "output_type": "execute_result"
    }
   ],
   "source": [
    "G_by_T_sys_gmrt"
   ]
  },
  {
   "cell_type": "code",
   "execution_count": 4,
   "id": "3847fa43-bdee-4ae2-80f1-c26acd6f5db7",
   "metadata": {},
   "outputs": [],
   "source": [
    "S_mean = 203\n",
    "P = 0.7145\n",
    "W = 1e-3*31.4"
   ]
  },
  {
   "cell_type": "code",
   "execution_count": 5,
   "id": "2d6f09fd-9c92-4856-ba73-d6538937a1ab",
   "metadata": {},
   "outputs": [
    {
     "data": {
      "text/plain": [
       "0.0314"
      ]
     },
     "execution_count": 5,
     "metadata": {},
     "output_type": "execute_result"
    }
   ],
   "source": [
    "W"
   ]
  },
  {
   "cell_type": "code",
   "execution_count": 6,
   "id": "2c9d5263-2348-4b54-88c6-99bfb314aad6",
   "metadata": {},
   "outputs": [],
   "source": [
    "x = (((SNR*beta)/S_mean)**2) * (1/f) * (W/(P-W))"
   ]
  },
  {
   "cell_type": "code",
   "execution_count": 7,
   "id": "e1cd502b-eced-4c92-8334-8c3a337777c8",
   "metadata": {},
   "outputs": [],
   "source": [
    "y_gmrt = ((1/G_by_T_sys_gmrt)**2) * (1/n_pol_gmrt)"
   ]
  },
  {
   "cell_type": "code",
   "execution_count": 8,
   "id": "ef70c37d-d34d-4828-93e0-af38a2fe1b48",
   "metadata": {},
   "outputs": [],
   "source": [
    "y_ncra = ((1/G_by_T_sys_ncra)**2) * (1/n_pol_ncra)"
   ]
  },
  {
   "cell_type": "code",
   "execution_count": 9,
   "id": "7f19844e-a745-40be-add2-1f0618526a4c",
   "metadata": {},
   "outputs": [],
   "source": [
    "t_obs_gmrt = x*y_gmrt\n",
    "t_obs_ncra = x*y_ncra\n",
    "t_ncra = t_obs_ncra/60"
   ]
  },
  {
   "cell_type": "code",
   "execution_count": 10,
   "id": "1e857584-f2eb-4fcc-9837-c8abfc92511f",
   "metadata": {},
   "outputs": [
    {
     "name": "stdout",
     "output_type": "stream",
     "text": [
      "gmrt 0.26197423937319114\n",
      "ncra 46.42905994832001\n",
      "ncra_min 0.7738176658053335\n"
     ]
    }
   ],
   "source": [
    "print('gmrt', t_obs_gmrt)\n",
    "print('ncra', t_obs_ncra)\n",
    "print('ncra_min', t_ncra)"
   ]
  },
  {
   "cell_type": "code",
   "execution_count": null,
   "id": "f12024d1-459c-4417-92bd-f86fe49f8308",
   "metadata": {},
   "outputs": [],
   "source": []
  }
 ],
 "metadata": {
  "kernelspec": {
   "display_name": "Python 3 (ipykernel)",
   "language": "python",
   "name": "python3"
  },
  "language_info": {
   "codemirror_mode": {
    "name": "ipython",
    "version": 3
   },
   "file_extension": ".py",
   "mimetype": "text/x-python",
   "name": "python",
   "nbconvert_exporter": "python",
   "pygments_lexer": "ipython3",
   "version": "3.12.3"
  }
 },
 "nbformat": 4,
 "nbformat_minor": 5
}
